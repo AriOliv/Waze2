{
 "cells": [
  {
   "source": [
    "## Download graph \n",
    "#### This notebook downloads all nodes and edges we need and saves them in a csv file\n",
    "\n",
    "We used data from: https://geoffboeing.com/publications/osmnx-complex-street-networks/"
   ],
   "cell_type": "markdown",
   "metadata": {}
  },
  {
   "cell_type": "code",
   "execution_count": 1,
   "metadata": {},
   "outputs": [],
   "source": [
    "import osmnx as ox\n",
    "import networkx as nx\n",
    "import pandas as pd\n",
    "import geopandas as gpd\n",
    "import json"
   ]
  },
  {
   "cell_type": "code",
   "execution_count": 2,
   "metadata": {},
   "outputs": [],
   "source": [
    "G = ox.graph_from_place(\"Rio de Janeiro, Rio de Janeiro, Brazil\", network_type=\"drive\")"
   ]
  },
  {
   "cell_type": "code",
   "execution_count": 3,
   "metadata": {},
   "outputs": [],
   "source": [
    "# try:\n",
    "#     G = ox.add_edge_speeds(G)\n",
    "#     G = ox.add_edge_travel_times(G)\n",
    "# except:\n",
    "#     print(\"Não tem esse dado aqui\")\n",
    "#     pass"
   ]
  },
  {
   "cell_type": "code",
   "execution_count": 4,
   "metadata": {
    "tags": []
   },
   "outputs": [],
   "source": [
    "nodes = {}\n",
    "node_list = []\n",
    "old_node_id = {}\n",
    "for num, i in enumerate(G.nodes(data=True)):\n",
    "    nodes[num] = {'y':i[1]['y'], 'x':i[1]['x']}\n",
    "    node_list.append([num ,i[1]['y'], i[1]['x'] ])\n",
    "    old_node_id[i[0]]=num \n",
    "\n",
    "nos = pd.DataFrame(node_list)\n",
    "# nos.columns = ['id','long','lat']\n",
    "nos.columns = ['id','y','x']\n",
    "nos.to_csv('Nodes.csv', sep=';', index=False)"
   ]
  },
  {
   "cell_type": "code",
   "execution_count": 5,
   "metadata": {},
   "outputs": [],
   "source": [
    "G.edges(data=True);"
   ]
  },
  {
   "cell_type": "code",
   "execution_count": 6,
   "metadata": {
    "tags": []
   },
   "outputs": [],
   "source": [
    "edges_list = []\n",
    "for num, j in enumerate(G.edges(data=True)):\n",
    "    try: \n",
    "        name = j[2]['name']\n",
    "    except:\n",
    "        name = None\n",
    "        \n",
    "    edges_list.append([\n",
    "                old_node_id[j[0]],\n",
    "                old_node_id[j[1]],\n",
    "                # j[2][\"travel_time\"]\n",
    "                round(j[2]['length'],2)\n",
    "                ])\n",
    "                #round(j[2]['length'],2)])\n",
    "\n",
    "\n",
    "edges = pd.DataFrame(edges_list)\n",
    "edges.columns = ['id_from','id_to', 'travel_time']\n",
    "edges.to_csv(\"Edges.csv\",sep=';', index=False, encoding='UTF-8')"
   ]
  },
  {
   "cell_type": "code",
   "execution_count": 7,
   "metadata": {},
   "outputs": [],
   "source": [
    "nodes, edges = ox.graph_to_gdfs(G)\n",
    "geometry_column=edges.reset_index()[\"geometry\"]\n",
    "from_column=edges.reset_index()[\"u\"]\n",
    "to_column=edges.reset_index()[\"v\"]\n",
    "\n",
    "for row in range(len(from_column)):\n",
    "    from_column[row] = old_node_id[from_column[row]]\n",
    "    to_column[row] = old_node_id[to_column[row]]\n",
    "\n",
    "clean_edges = edges.reset_index()[[\"u\",\"v\", \"geometry\"]]\n",
    "clean_edges[\"u\"] = from_column\n",
    "clean_edges[\"v\"] = to_column"
   ]
  },
  {
   "cell_type": "code",
   "execution_count": 8,
   "metadata": {
    "tags": []
   },
   "outputs": [],
   "source": [
    "clean_edges.to_file(\"streets.geojson\", \n",
    "    driver=\"GeoJSON\",\n",
    "    drop_id=True)\n",
    "\n",
    "with open(\"streets.geojson\",\"r\") as f:\n",
    "    content = f.read()\n",
    "\n",
    "with open(\"streets.geojson\",\"w\") as f:\n",
    "    f.write(\"var streets1 =\")\n",
    "    f.write(content)"
   ]
  },
  {
   "cell_type": "code",
   "execution_count": 104,
   "metadata": {},
   "outputs": [],
   "source": []
  },
  {
   "cell_type": "code",
   "execution_count": 9,
   "metadata": {},
   "outputs": [],
   "source": [
    "# import matplotlib.pyplot as plt\n",
    "\n",
    "# # Plot the streets\n",
    "# fig, ax = ox.plot_graph(G)\n",
    "\n",
    "# # Retrieve nodes and edges\n",
    "# nodes, edges = ox.graph_to_gdfs(G)\n",
    "# nodes.head()\n",
    "\n",
    "# # Plot the nodes\n",
    "# fig, ax = plt.subplots(figsize=(12,8))\n",
    "# nodes.plot(ax=ax, facecolor='black')"
   ]
  }
 ],
 "metadata": {
  "kernelspec": {
   "name": "python392jvsc74a57bd04cf44e6c3390ac74e117f8debd355d66d9f46eb6f8a0e39cdcb63905d6b001e1",
   "display_name": "Python 3.9.2 64-bit ('ox': conda)"
  },
  "language_info": {
   "codemirror_mode": {
    "name": "ipython",
    "version": 3
   },
   "file_extension": ".py",
   "mimetype": "text/x-python",
   "name": "python",
   "nbconvert_exporter": "python",
   "pygments_lexer": "ipython3",
   "version": "3.9.2"
  }
 },
 "nbformat": 4,
 "nbformat_minor": 4
}